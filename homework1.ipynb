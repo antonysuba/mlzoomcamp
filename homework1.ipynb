{
 "cells": [
  {
   "cell_type": "code",
   "execution_count": 2,
   "id": "788831a2",
   "metadata": {},
   "outputs": [],
   "source": [
    "import pandas as pd\n"
   ]
  },
  {
   "cell_type": "code",
   "execution_count": 3,
   "id": "c72d9184",
   "metadata": {},
   "outputs": [
    {
     "data": {
      "text/plain": [
       "'1.3.4'"
      ]
     },
     "execution_count": 3,
     "metadata": {},
     "output_type": "execute_result"
    }
   ],
   "source": [
    "pd.__version__"
   ]
  },
  {
   "cell_type": "code",
   "execution_count": 15,
   "id": "bb5c7bf7",
   "metadata": {},
   "outputs": [],
   "source": [
    "df = pd.read_csv('housing.csv')"
   ]
  },
  {
   "cell_type": "code",
   "execution_count": 17,
   "id": "331a5ab1",
   "metadata": {},
   "outputs": [
    {
     "name": "stdout",
     "output_type": "stream",
     "text": [
      "10\n"
     ]
    }
   ],
   "source": [
    "print(len(df.columns))"
   ]
  },
  {
   "cell_type": "code",
   "execution_count": 19,
   "id": "1bf40135",
   "metadata": {},
   "outputs": [
    {
     "name": "stdout",
     "output_type": "stream",
     "text": [
      "Index(['total_bedrooms'], dtype='object')\n"
     ]
    }
   ],
   "source": [
    "print(df.columns[df.isnull().any()])"
   ]
  },
  {
   "cell_type": "code",
   "execution_count": 21,
   "id": "ac02fee0",
   "metadata": {},
   "outputs": [
    {
     "name": "stdout",
     "output_type": "stream",
     "text": [
      "['NEAR BAY' '<1H OCEAN' 'INLAND' 'NEAR OCEAN' 'ISLAND']\n"
     ]
    }
   ],
   "source": [
    "print(df['ocean_proximity'].unique())"
   ]
  },
  {
   "cell_type": "code",
   "execution_count": 27,
   "id": "f94a014b",
   "metadata": {},
   "outputs": [
    {
     "name": "stdout",
     "output_type": "stream",
     "text": [
      "259212.31179039303\n"
     ]
    }
   ],
   "source": [
    "df1 = df.groupby('ocean_proximity')\n",
    "df2 = df1.get_group(\"NEAR BAY\")\n",
    "print(df2['median_house_value'].mean())"
   ]
  },
  {
   "cell_type": "code",
   "execution_count": 28,
   "id": "e53b7b19",
   "metadata": {},
   "outputs": [
    {
     "name": "stdout",
     "output_type": "stream",
     "text": [
      "537.8705525375618\n"
     ]
    }
   ],
   "source": [
    "print(df['total_bedrooms'].mean())"
   ]
  },
  {
   "cell_type": "code",
   "execution_count": 30,
   "id": "569bbc16",
   "metadata": {},
   "outputs": [
    {
     "name": "stdout",
     "output_type": "stream",
     "text": [
      "0         129.0\n",
      "1        1106.0\n",
      "2         190.0\n",
      "3         235.0\n",
      "4         280.0\n",
      "          ...  \n",
      "20635     374.0\n",
      "20636     150.0\n",
      "20637     485.0\n",
      "20638     409.0\n",
      "20639     616.0\n",
      "Name: total_bedrooms, Length: 20640, dtype: float64\n"
     ]
    }
   ],
   "source": [
    "df1 = df['total_bedrooms'].fillna(value = 537.87)\n",
    "print(df1)"
   ]
  },
  {
   "cell_type": "code",
   "execution_count": 32,
   "id": "501ecfaa",
   "metadata": {},
   "outputs": [
    {
     "name": "stdout",
     "output_type": "stream",
     "text": [
      "537.8705469961225\n"
     ]
    }
   ],
   "source": [
    "print(df1.mean())"
   ]
  },
  {
   "cell_type": "code",
   "execution_count": 34,
   "id": "76c04e28",
   "metadata": {},
   "outputs": [
    {
     "name": "stdout",
     "output_type": "stream",
     "text": [
      "      longitude  latitude  housing_median_age  total_rooms  total_bedrooms  \\\n",
      "8314    -118.32     33.35                27.0       1675.0           521.0   \n",
      "8315    -118.33     33.34                52.0       2359.0           591.0   \n",
      "8316    -118.32     33.33                52.0       2127.0           512.0   \n",
      "8317    -118.32     33.34                52.0        996.0           264.0   \n",
      "8318    -118.48     33.43                29.0        716.0           214.0   \n",
      "\n",
      "      population  households  median_income  median_house_value  \\\n",
      "8314       744.0       331.0         2.1579            450000.0   \n",
      "8315      1100.0       431.0         2.8333            414700.0   \n",
      "8316       733.0       288.0         3.3906            300000.0   \n",
      "8317       341.0       160.0         2.7361            450000.0   \n",
      "8318       422.0       173.0         2.6042            287500.0   \n",
      "\n",
      "     ocean_proximity  \n",
      "8314          ISLAND  \n",
      "8315          ISLAND  \n",
      "8316          ISLAND  \n",
      "8317          ISLAND  \n",
      "8318          ISLAND  \n",
      "      housing_median_age  total_rooms  total_bedrooms\n",
      "8314                27.0       1675.0           521.0\n",
      "8315                52.0       2359.0           591.0\n",
      "8316                52.0       2127.0           512.0\n",
      "8317                52.0        996.0           264.0\n",
      "8318                29.0        716.0           214.0\n"
     ]
    }
   ],
   "source": [
    "df1 = df.groupby('ocean_proximity')\n",
    "df2 = df1.get_group(\"ISLAND\")\n",
    "df3 = df2[['housing_median_age','total_rooms','total_bedrooms']]\n",
    "print(df2)\n",
    "print(df3)"
   ]
  },
  {
   "cell_type": "code",
   "execution_count": 35,
   "id": "2fcefc25",
   "metadata": {},
   "outputs": [
    {
     "name": "stdout",
     "output_type": "stream",
     "text": [
      "[[  27 1675  521]\n",
      " [  52 2359  591]\n",
      " [  52 2127  512]\n",
      " [  52  996  264]\n",
      " [  29  716  214]]\n"
     ]
    }
   ],
   "source": [
    "import numpy as np\n",
    "x = np.array([[27,1xt675,521],[52,2359,591],[52,2127,512],[52,996,264],[29,716,214]])\n",
    "print(x)"
   ]
  },
  {
   "cell_type": "code",
   "execution_count": 38,
   "id": "b8c74897",
   "metadata": {},
   "outputs": [
    {
     "name": "stdout",
     "output_type": "stream",
     "text": [
      "[[  27   52   52   52   29]\n",
      " [1675 2359 2127  996  716]\n",
      " [ 521  591  512  264  214]]\n"
     ]
    }
   ],
   "source": [
    "import numpy as np\n",
    "x = np.array([[27,1675,521],[52,2359,591],[52,2127,512],[52,996,264],[29,716,214]])\n",
    "xt = x.transpose()\n",
    "print(xt)"
   ]
  },
  {
   "cell_type": "code",
   "execution_count": 40,
   "id": "ba486a83",
   "metadata": {},
   "outputs": [
    {
     "name": "stdout",
     "output_type": "stream",
     "text": [
      "[[    9682   351053    91357]\n",
      " [  351053 14399307  3772036]\n",
      " [   91357  3772036   998358]]\n"
     ]
    }
   ],
   "source": [
    "xtx = xt @ x\n",
    "print(xtx)"
   ]
  },
  {
   "cell_type": "code",
   "execution_count": 43,
   "id": "58696e9d",
   "metadata": {},
   "outputs": [
    {
     "name": "stdout",
     "output_type": "stream",
     "text": [
      "[[ 9.19403586e-04 -3.66412216e-05  5.43072261e-05]\n",
      " [-3.66412216e-05  8.23303633e-06 -2.77534485e-05]\n",
      " [ 5.43072261e-05 -2.77534485e-05  1.00891325e-04]]\n"
     ]
    }
   ],
   "source": [
    "from numpy.linalg import inv\n",
    "xtxinv = inv(xtx)\n",
    "print(xtxinv)"
   ]
  },
  {
   "cell_type": "code",
   "execution_count": 44,
   "id": "8579e751",
   "metadata": {},
   "outputs": [
    {
     "name": "stdout",
     "output_type": "stream",
     "text": [
      "[ 950 1300  800 1000 1300]\n"
     ]
    }
   ],
   "source": [
    "y = np.array([950,1300,800,1000,1300])\n",
    "print(y)"
   ]
  },
  {
   "cell_type": "code",
   "execution_count": 46,
   "id": "ae3ff800",
   "metadata": {},
   "outputs": [
    {
     "name": "stdout",
     "output_type": "stream",
     "text": [
      "[23.12330961 -1.48124183  5.69922946]\n"
     ]
    }
   ],
   "source": [
    "pre_w = xtxinv @ xt\n",
    "w = pre_w @ y\n",
    "print(w)"
   ]
  },
  {
   "cell_type": "code",
   "execution_count": null,
   "id": "6d808945",
   "metadata": {},
   "outputs": [],
   "source": []
  }
 ],
 "metadata": {
  "kernelspec": {
   "display_name": "Python 3 (ipykernel)",
   "language": "python",
   "name": "python3"
  },
  "language_info": {
   "codemirror_mode": {
    "name": "ipython",
    "version": 3
   },
   "file_extension": ".py",
   "mimetype": "text/x-python",
   "name": "python",
   "nbconvert_exporter": "python",
   "pygments_lexer": "ipython3",
   "version": "3.9.7"
  }
 },
 "nbformat": 4,
 "nbformat_minor": 5
}
